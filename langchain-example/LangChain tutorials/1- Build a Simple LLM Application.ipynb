{
 "cells": [
  {
   "cell_type": "markdown",
   "id": "3819f206-fe03-43fc-8f71-e7d4de857421",
   "metadata": {},
   "source": [
    "# Build a Simple LLM Application"
   ]
  },
  {
   "cell_type": "markdown",
   "id": "aa98e881-6b5f-4dc2-a9a1-d5adba07fb5a",
   "metadata": {},
   "source": [
    "https://python.langchain.com/docs/tutorials/llm_chain/#using-language-models"
   ]
  },
  {
   "cell_type": "markdown",
   "id": "46e3b6e9-9b75-49c3-8678-0c018ad91fa6",
   "metadata": {},
   "source": [
    "## Initiate with LangChain MLXPipeline"
   ]
  },
  {
   "cell_type": "markdown",
   "id": "6a4b304c-bff1-4d02-bdfa-fc2a0eae6e2b",
   "metadata": {},
   "source": [
    "https://python.langchain.com/docs/integrations/chat/mlx/"
   ]
  },
  {
   "cell_type": "code",
   "execution_count": 1,
   "id": "d184dde4-b9ee-4ae2-95e4-3f279cc38f66",
   "metadata": {},
   "outputs": [],
   "source": [
    "# !pip install langchain_community"
   ]
  },
  {
   "cell_type": "code",
   "execution_count": 2,
   "id": "e6a28add-785b-4612-9b4c-1f8fba193c06",
   "metadata": {},
   "outputs": [
    {
     "data": {
      "application/vnd.jupyter.widget-view+json": {
       "model_id": "3a380c90ce67403b8f41192df25e178f",
       "version_major": 2,
       "version_minor": 0
      },
      "text/plain": [
       "Fetching 12 files:   0%|          | 0/12 [00:00<?, ?it/s]"
      ]
     },
     "metadata": {},
     "output_type": "display_data"
    }
   ],
   "source": [
    "from langchain_community.llms.mlx_pipeline import MLXPipeline\n",
    "\n",
    "llm = MLXPipeline.from_model_id(\n",
    "    \"mlx-community/Qwen2.5-32B-Instruct-4bit\",\n",
    "    pipeline_kwargs={\"max_tokens\": 4000, \"temp\": 0.1},\n",
    ")"
   ]
  },
  {
   "cell_type": "code",
   "execution_count": 3,
   "id": "63506714-e70f-48d3-9138-69ff0ba17cca",
   "metadata": {},
   "outputs": [],
   "source": [
    "from langchain_community.chat_models.mlx import ChatMLX\n",
    "chat_model = ChatMLX(llm=llm)"
   ]
  },
  {
   "cell_type": "markdown",
   "id": "d0809b51-684d-41ab-987c-9eed54065303",
   "metadata": {},
   "source": [
    "## Chat messages"
   ]
  },
  {
   "cell_type": "code",
   "execution_count": 4,
   "id": "dc73207a-7f8c-4b09-add8-7e6b8d6ff760",
   "metadata": {},
   "outputs": [],
   "source": [
    "from langchain_core.messages import HumanMessage\n",
    "\n",
    "messages = [\n",
    "    HumanMessage(\n",
    "        content=\"What happens when an unstoppable force meets an immovable object?\"\n",
    "    ),\n",
    "]"
   ]
  },
  {
   "cell_type": "code",
   "execution_count": 5,
   "id": "123c9765-7f93-4c60-8833-5a109001ab50",
   "metadata": {},
   "outputs": [
    {
     "data": {
      "text/plain": [
       "'<|im_start|>system\\nYou are Qwen, created by Alibaba Cloud. You are a helpful assistant.<|im_end|>\\n<|im_start|>user\\nWhat happens when an unstoppable force meets an immovable object?<|im_end|>\\n<|im_start|>assistant\\n'"
      ]
     },
     "execution_count": 5,
     "metadata": {},
     "output_type": "execute_result"
    }
   ],
   "source": [
    "chat_model._to_chat_prompt(messages)"
   ]
  },
  {
   "cell_type": "code",
   "execution_count": 7,
   "id": "eb58af58-4a19-44db-8908-51a576f9dbaf",
   "metadata": {},
   "outputs": [
    {
     "name": "stdout",
     "output_type": "stream",
     "text": [
      "[Warning] Specifying sampling arguments to ``generate_step`` is deprecated. Pass in a ``sampler`` instead.\n"
     ]
    },
    {
     "data": {
      "text/plain": [
       "AIMessage(content='The concept of an unstoppable force meeting an immovable object is a classic philosophical paradox. In theory, both the force and the object are defined in such a way that they cannot be overcome or moved, respectively. This creates a situation where the outcome cannot be logically determined because it involves two mutually exclusive conditions.\\n\\nIn reality, the idea of an unstoppable force and an immovable object are more thought experiments than practical scenarios. They challenge our understanding of physics and logic, and are often used to illustrate the limitations of certain types of reasoning or to explore the nature of absolutes.\\n\\nIf we were to consider this from a purely theoretical or philosophical standpoint, the paradox suggests that one of the premises must be false or that the situation itself is impossible. In other words, if a force is truly unstoppable, then by definition there cannot be an object that is immovable, and vice versa.', additional_kwargs={}, response_metadata={}, id='run-1ef59167-2a30-4382-af8f-255fe0bbd576-0')"
      ]
     },
     "execution_count": 7,
     "metadata": {},
     "output_type": "execute_result"
    }
   ],
   "source": [
    "chat_model.invoke(messages)"
   ]
  },
  {
   "cell_type": "code",
   "execution_count": 9,
   "id": "4a289143-5367-459d-b8da-d6910930bd2f",
   "metadata": {},
   "outputs": [
    {
     "name": "stdout",
     "output_type": "stream",
     "text": [
      "[Warning] Specifying sampling arguments to ``generate_step`` is deprecated. Pass in a ``sampler`` instead.\n"
     ]
    },
    {
     "data": {
      "text/plain": [
       "AIMessage(content='Hello! How can I assist you today?', additional_kwargs={}, response_metadata={}, id='run-f6fb1d67-6b9e-4cb7-b2f4-1f7839b8970e-0')"
      ]
     },
     "execution_count": 9,
     "metadata": {},
     "output_type": "execute_result"
    }
   ],
   "source": [
    "chat_model.invoke(\"Hello\")"
   ]
  },
  {
   "cell_type": "code",
   "execution_count": 10,
   "id": "697a3fd8-2975-4138-80b6-32ef872479f7",
   "metadata": {},
   "outputs": [
    {
     "name": "stdout",
     "output_type": "stream",
     "text": [
      "[Warning] Specifying sampling arguments to ``generate_step`` is deprecated. Pass in a ``sampler`` instead.\n"
     ]
    },
    {
     "data": {
      "text/plain": [
       "AIMessage(content='Hello! How can I assist you today?', additional_kwargs={}, response_metadata={}, id='run-48e4e392-778b-448f-810f-e9de39361cd9-0')"
      ]
     },
     "execution_count": 10,
     "metadata": {},
     "output_type": "execute_result"
    }
   ],
   "source": [
    "chat_model.invoke([{\"role\": \"user\", \"content\": \"Hello\"}])"
   ]
  },
  {
   "cell_type": "code",
   "execution_count": 12,
   "id": "8d8fa450-b647-45be-ae10-2246ca817bbd",
   "metadata": {},
   "outputs": [
    {
     "name": "stdout",
     "output_type": "stream",
     "text": [
      "[Warning] Specifying sampling arguments to ``generate_step`` is deprecated. Pass in a ``sampler`` instead.\n"
     ]
    },
    {
     "data": {
      "text/plain": [
       "AIMessage(content='Hello! How can I assist you today?', additional_kwargs={}, response_metadata={}, id='run-6b84fd18-e839-4106-bf48-ea078051a705-0')"
      ]
     },
     "execution_count": 12,
     "metadata": {},
     "output_type": "execute_result"
    }
   ],
   "source": [
    "chat_model.invoke([HumanMessage(\"Hello\")])"
   ]
  },
  {
   "cell_type": "markdown",
   "id": "c1b2d69c-1a76-47cd-a0d6-37a0e60dd4cf",
   "metadata": {
    "jp-MarkdownHeadingCollapsed": true
   },
   "source": [
    "## Streaming"
   ]
  },
  {
   "cell_type": "code",
   "execution_count": 21,
   "id": "3c4034da-3282-4200-9bf1-131dcaa69a5d",
   "metadata": {},
   "outputs": [
    {
     "name": "stdout",
     "output_type": "stream",
     "text": [
      "[Warning] Specifying sampling arguments to ``generate_step`` is deprecated. Pass in a ``sampler`` instead.\n",
      "The concept of an unstoppable force meeting an immovable object is a classic philosophical paradox. In theory, both the force and the object are defined in such a way that they cannot be overcome or moved, respectively. This creates a situation where the outcome cannot be logically determined because it involves two mutually exclusive conditions.\n",
      "\n",
      "In reality, the idea of an unstoppable force and an immovable object are more thought experiments than actual physical possibilities. In the physical world, all forces and objects have some level of resistance and movement, and the laws of physics, such as Newton's laws of motion, would apply to describe their interactions.\n",
      "\n",
      "If we were to consider this from a purely theoretical standpoint, the paradox highlights the limits of certain types of definitions and the importance of considering the context and conditions under which such concepts are applied.<|im_end|>"
     ]
    }
   ],
   "source": [
    "for token in chat_model.stream(messages):\n",
    "    print(token.content, end=\"\", flush=True)"
   ]
  },
  {
   "cell_type": "code",
   "execution_count": 22,
   "id": "6a6fd883-7afd-4531-9dc0-655c2a15c0d7",
   "metadata": {},
   "outputs": [
    {
     "name": "stdout",
     "output_type": "stream",
     "text": [
      "[Warning] Specifying sampling arguments to ``generate_step`` is deprecated. Pass in a ``sampler`` instead.\n",
      "The concept of an unstoppable force meeting an immovable object is a classic philosophical paradox. In theory, both the force and the object are defined in such a way that they cannot be overcome or moved, respectively. This creates a situation where the outcome cannot be logically determined because it involves two mutually exclusive conditions.\n",
      "\n",
      "In practical terms, the paradox highlights the limitations of certain types of definitions and the importance of considering the context and the nature of the entities involved. In the real world, the idea of an absolutely unstoppable force or an absolutely immovable object does not exist, as all forces and objects are subject to the laws of physics and can be influenced by other factors.\n",
      "\n",
      "Philosophically, this paradox can be used to explore ideas about determinism, the nature of reality, and the limits of human understanding.<|im_end|>"
     ]
    }
   ],
   "source": [
    "async for token in chat_model.astream(messages):\n",
    "    print(token.content, end=\"\", flush=True)"
   ]
  },
  {
   "cell_type": "markdown",
   "id": "0cb9d1be-07fe-40f5-99e6-8efe72329b72",
   "metadata": {
    "jp-MarkdownHeadingCollapsed": true
   },
   "source": [
    "## Prompt template"
   ]
  },
  {
   "cell_type": "code",
   "execution_count": 23,
   "id": "d1af8ebb-bf35-45da-a838-26a26bd0fd43",
   "metadata": {},
   "outputs": [],
   "source": [
    "from langchain_core.prompts import ChatPromptTemplate\n",
    "\n",
    "system_template = \"Translate the following from English into {language}\"\n",
    "\n",
    "prompt_template = ChatPromptTemplate.from_messages(\n",
    "    [(\"system\", system_template), (\"user\", \"{text}\")]\n",
    ")"
   ]
  },
  {
   "cell_type": "code",
   "execution_count": 24,
   "id": "13b61f5d-fa02-4818-be14-bb120f3497c0",
   "metadata": {},
   "outputs": [
    {
     "data": {
      "text/plain": [
       "ChatPromptValue(messages=[SystemMessage(content='Translate the following from English into Italian', additional_kwargs={}, response_metadata={}), HumanMessage(content='hi!', additional_kwargs={}, response_metadata={})])"
      ]
     },
     "execution_count": 24,
     "metadata": {},
     "output_type": "execute_result"
    }
   ],
   "source": [
    "prompt = prompt_template.invoke({\"language\": \"Italian\", \"text\": \"hi!\"})\n",
    "\n",
    "prompt"
   ]
  },
  {
   "cell_type": "code",
   "execution_count": 25,
   "id": "f6dea59f-5bff-4aac-ac77-22de75d0b999",
   "metadata": {},
   "outputs": [
    {
     "data": {
      "text/plain": [
       "[SystemMessage(content='Translate the following from English into Italian', additional_kwargs={}, response_metadata={}),\n",
       " HumanMessage(content='hi!', additional_kwargs={}, response_metadata={})]"
      ]
     },
     "execution_count": 25,
     "metadata": {},
     "output_type": "execute_result"
    }
   ],
   "source": [
    "prompt.to_messages()"
   ]
  },
  {
   "cell_type": "code",
   "execution_count": 26,
   "id": "56182fee-f2c1-45f6-8beb-f5c8b258510b",
   "metadata": {},
   "outputs": [
    {
     "name": "stdout",
     "output_type": "stream",
     "text": [
      "[Warning] Specifying sampling arguments to ``generate_step`` is deprecated. Pass in a ``sampler`` instead.\n",
      "Ciao!\n"
     ]
    }
   ],
   "source": [
    "response = chat_model.invoke(prompt)\n",
    "print(response.content)"
   ]
  }
 ],
 "metadata": {
  "kernelspec": {
   "display_name": "Python 3 (ipykernel)",
   "language": "python",
   "name": "python3"
  },
  "language_info": {
   "codemirror_mode": {
    "name": "ipython",
    "version": 3
   },
   "file_extension": ".py",
   "mimetype": "text/x-python",
   "name": "python",
   "nbconvert_exporter": "python",
   "pygments_lexer": "ipython3",
   "version": "3.13.0"
  }
 },
 "nbformat": 4,
 "nbformat_minor": 5
}
