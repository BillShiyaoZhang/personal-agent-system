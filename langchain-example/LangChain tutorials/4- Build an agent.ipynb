{
 "cells": [
  {
   "cell_type": "markdown",
   "id": "6fff70c4-ec75-45c2-8a4a-0b63df49d190",
   "metadata": {},
   "source": [
    "# Build an Agent"
   ]
  },
  {
   "cell_type": "markdown",
   "id": "bfccd0d9-a993-4543-aa51-67a6586bac45",
   "metadata": {},
   "source": [
    "https://python.langchain.com/docs/tutorials/agents/"
   ]
  },
  {
   "cell_type": "code",
   "execution_count": 1,
   "id": "cbcafc9e-6d3f-4896-aa82-9b3b1e7eb4b0",
   "metadata": {},
   "outputs": [],
   "source": [
    "import getpass\n",
    "import os\n",
    "\n",
    "os.environ[\"LANGCHAIN_TRACING_V2\"] = \"true\"\n",
    "os.environ[\"LANGCHAIN_API_KEY\"] = \"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\""
   ]
  },
  {
   "cell_type": "code",
   "execution_count": 2,
   "id": "391cabe8-fdf4-4ef2-9354-33fcb6a3c6b2",
   "metadata": {},
   "outputs": [
    {
     "data": {
      "application/vnd.jupyter.widget-view+json": {
       "model_id": "26f8ea27997349b8873b16eaebff5de7",
       "version_major": 2,
       "version_minor": 0
      },
      "text/plain": [
       "Fetching 12 files:   0%|          | 0/12 [00:00<?, ?it/s]"
      ]
     },
     "metadata": {},
     "output_type": "display_data"
    }
   ],
   "source": [
    "from langchain_community.llms.mlx_pipeline import MLXPipeline\n",
    "\n",
    "llm = MLXPipeline.from_model_id(\n",
    "    \"mlx-community/Qwen2.5-32B-Instruct-4bit\",\n",
    "    pipeline_kwargs={\"max_tokens\": 4000, \"temp\": 0.1},\n",
    ")\n",
    "\n",
    "from langchain_community.chat_models.mlx import ChatMLX\n",
    "model = ChatMLX(llm=llm)"
   ]
  },
  {
   "cell_type": "code",
   "execution_count": 3,
   "id": "07957d1a-1bd2-4cbd-b905-f1ae3d2e1c2f",
   "metadata": {},
   "outputs": [],
   "source": [
    "os.environ[\"TAVILY_API_KEY\"] = \"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\""
   ]
  },
  {
   "cell_type": "code",
   "execution_count": 15,
   "id": "cc2639ae-cf14-4daa-ba11-ea5fa9253807",
   "metadata": {},
   "outputs": [
    {
     "data": {
      "text/plain": [
       "[{'url': 'https://www.weatherapi.com/',\n",
       "  'content': \"{'location': {'name': 'San Francisco', 'region': 'California', 'country': 'United States of America', 'lat': 37.775, 'lon': -122.4183, 'tz_id': 'America/Los_Angeles', 'localtime_epoch': 1735087316, 'localtime': '2024-12-24 16:41'}, 'current': {'last_updated_epoch': 1735086600, 'last_updated': '2024-12-24 16:30', 'temp_c': 12.9, 'temp_f': 55.3, 'is_day': 1, 'condition': {'text': 'Sunny', 'icon': '//cdn.weatherapi.com/weather/64x64/day/113.png', 'code': 1000}, 'wind_mph': 12.1, 'wind_kph': 19.4, 'wind_degree': 288, 'wind_dir': 'WNW', 'pressure_mb': 1019.0, 'pressure_in': 30.09, 'precip_mm': 0.0, 'precip_in': 0.0, 'humidity': 79, 'cloud': 0, 'feelslike_c': 11.2, 'feelslike_f': 52.2, 'windchill_c': 11.2, 'windchill_f': 52.2, 'heatindex_c': 12.9, 'heatindex_f': 55.3, 'dewpoint_c': 9.3, 'dewpoint_f': 48.7, 'vis_km': 10.0, 'vis_miles': 6.0, 'uv': 0.2, 'gust_mph': 16.7, 'gust_kph': 26.9}}\"},\n",
       " {'url': 'https://www.peoplesweather.com/weather/San+Francisco/?date=2024-12-25',\n",
       "  'content': 'Get your weather updates for San Francisco as seen on our Detailed Bulletin on People°s Weather DStv Channel 180 and Openview Channel 115. ... Get the weather for. Johannesburg. Weather for San Francisco. Weather; United States; San Francisco; Wednesday 25 December 2024. 11°C 8°C: 0% . Cloud Cover: 100%. W / 10km/h. Light Breeze. Overcast'}]"
      ]
     },
     "execution_count": 15,
     "metadata": {},
     "output_type": "execute_result"
    }
   ],
   "source": [
    "from langchain_community.tools.tavily_search import TavilySearchResults\n",
    "\n",
    "search = TavilySearchResults(max_results=2)\n",
    "search_results = search.invoke(\"what is the weather in SF\")\n",
    "search_results"
   ]
  },
  {
   "cell_type": "code",
   "execution_count": 13,
   "id": "c74ab59c-4809-4ea1-ac85-17fc678f0a14",
   "metadata": {},
   "outputs": [],
   "source": [
    "# If we want, we can create other tools.\n",
    "# Once we have all the tools we want, we can put them in a list that we will reference later.\n",
    "tools = [search]"
   ]
  },
  {
   "cell_type": "code",
   "execution_count": 5,
   "id": "131e082b-66fd-4f71-9eec-cccd95115fe3",
   "metadata": {},
   "outputs": [
    {
     "name": "stdout",
     "output_type": "stream",
     "text": [
      "[Warning] Specifying sampling arguments to ``generate_step`` is deprecated. Pass in a ``sampler`` instead.\n"
     ]
    },
    {
     "data": {
      "text/plain": [
       "'Hello! How can I assist you today?'"
      ]
     },
     "execution_count": 5,
     "metadata": {},
     "output_type": "execute_result"
    }
   ],
   "source": [
    "from langchain_core.messages import HumanMessage\n",
    "\n",
    "response = model.invoke([HumanMessage(content=\"hi!\")])\n",
    "response.content"
   ]
  },
  {
   "cell_type": "code",
   "execution_count": 6,
   "id": "4401137a-b9a6-41a7-91fc-1b06b9bf7261",
   "metadata": {},
   "outputs": [],
   "source": [
    "model_with_tools = model.bind_tools(tools)"
   ]
  },
  {
   "cell_type": "code",
   "execution_count": 7,
   "id": "0dc95a93-68fb-4fb0-97f5-53e7e26696ea",
   "metadata": {},
   "outputs": [
    {
     "name": "stdout",
     "output_type": "stream",
     "text": [
      "[Warning] Specifying sampling arguments to ``generate_step`` is deprecated. Pass in a ``sampler`` instead.\n",
      "ContentString: Hello! How can I assist you today?\n",
      "ToolCalls: []\n"
     ]
    }
   ],
   "source": [
    "response = model_with_tools.invoke([HumanMessage(content=\"Hi!\")])\n",
    "\n",
    "print(f\"ContentString: {response.content}\")\n",
    "print(f\"ToolCalls: {response.tool_calls}\")"
   ]
  },
  {
   "cell_type": "code",
   "execution_count": 8,
   "id": "13b60cf0-f633-45b2-b219-d60e189c721d",
   "metadata": {},
   "outputs": [
    {
     "name": "stdout",
     "output_type": "stream",
     "text": [
      "[Warning] Specifying sampling arguments to ``generate_step`` is deprecated. Pass in a ``sampler`` instead.\n",
      "ContentString: I'm currently unable to perform real-time web searches or access live data. However, you can easily check the weather in San Francisco today by using a weather website or app, such as the Weather Channel, AccuWeather, or a service like Google Weather. Simply enter \"San Francisco weather today\" into the search bar of your choice to get the most up-to-date information.\n",
      "ToolCalls: []\n"
     ]
    }
   ],
   "source": [
    "response = model_with_tools.invoke([HumanMessage(content=\"Use the search tool to search the weather in SF today.\")])\n",
    "\n",
    "print(f\"ContentString: {response.content}\")\n",
    "print(f\"ToolCalls: {response.tool_calls}\")"
   ]
  },
  {
   "cell_type": "code",
   "execution_count": null,
   "id": "311421b1-b2cb-4b79-a814-06293cdbb00f",
   "metadata": {},
   "outputs": [],
   "source": []
  },
  {
   "cell_type": "code",
   "execution_count": null,
   "id": "d79df477-59ca-47ae-a21e-912c28365058",
   "metadata": {},
   "outputs": [],
   "source": []
  }
 ],
 "metadata": {
  "kernelspec": {
   "display_name": "Python 3 (ipykernel)",
   "language": "python",
   "name": "python3"
  },
  "language_info": {
   "codemirror_mode": {
    "name": "ipython",
    "version": 3
   },
   "file_extension": ".py",
   "mimetype": "text/x-python",
   "name": "python",
   "nbconvert_exporter": "python",
   "pygments_lexer": "ipython3",
   "version": "3.12.8"
  }
 },
 "nbformat": 4,
 "nbformat_minor": 5
}
