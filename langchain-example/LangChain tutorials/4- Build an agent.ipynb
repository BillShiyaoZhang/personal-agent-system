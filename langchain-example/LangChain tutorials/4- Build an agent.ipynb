{
 "cells": [
  {
   "cell_type": "markdown",
   "id": "6fff70c4-ec75-45c2-8a4a-0b63df49d190",
   "metadata": {},
   "source": [
    "# Build an Agent"
   ]
  },
  {
   "cell_type": "markdown",
   "id": "bfccd0d9-a993-4543-aa51-67a6586bac45",
   "metadata": {},
   "source": [
    "https://python.langchain.com/docs/tutorials/agents/"
   ]
  },
  {
   "cell_type": "code",
   "execution_count": 1,
   "id": "056d021d-59aa-4591-9937-2242edef0281",
   "metadata": {},
   "outputs": [
    {
     "data": {
      "application/vnd.jupyter.widget-view+json": {
       "model_id": "a9faf61ff9db4940a37aacf1c146f1ee",
       "version_major": 2,
       "version_minor": 0
      },
      "text/plain": [
       "Fetching 12 files:   0%|          | 0/12 [00:00<?, ?it/s]"
      ]
     },
     "metadata": {},
     "output_type": "display_data"
    }
   ],
   "source": [
    "import util\n",
    "util.setLangSmith()\n",
    "model = util.getChatMLX()"
   ]
  },
  {
   "cell_type": "code",
   "execution_count": 2,
   "id": "cbcafc9e-6d3f-4896-aa82-9b3b1e7eb4b0",
   "metadata": {},
   "outputs": [],
   "source": [
    "# import getpass\n",
    "# import os\n",
    "\n",
    "# os.environ[\"LANGCHAIN_TRACING_V2\"] = \"true\"\n",
    "# os.environ[\"LANGCHAIN_API_KEY\"] = \"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\""
   ]
  },
  {
   "cell_type": "code",
   "execution_count": 3,
   "id": "391cabe8-fdf4-4ef2-9354-33fcb6a3c6b2",
   "metadata": {},
   "outputs": [],
   "source": [
    "# from langchain_community.llms.mlx_pipeline import MLXPipeline\n",
    "\n",
    "# llm = MLXPipeline.from_model_id(\n",
    "#     \"mlx-community/Qwen2.5-32B-Instruct-4bit\",\n",
    "#     pipeline_kwargs={\"max_tokens\": 4000, \"temp\": 0.1},\n",
    "# )\n",
    "\n",
    "# from langchain_community.chat_models.mlx import ChatMLX\n",
    "# model = ChatMLX(llm=llm)"
   ]
  },
  {
   "cell_type": "code",
   "execution_count": 4,
   "id": "131e082b-66fd-4f71-9eec-cccd95115fe3",
   "metadata": {},
   "outputs": [
    {
     "name": "stdout",
     "output_type": "stream",
     "text": [
      "[Warning] Specifying sampling arguments to ``generate_step`` is deprecated. Pass in a ``sampler`` instead.\n"
     ]
    },
    {
     "data": {
      "text/plain": [
       "'Hello! How can I assist you today?'"
      ]
     },
     "execution_count": 4,
     "metadata": {},
     "output_type": "execute_result"
    }
   ],
   "source": [
    "from langchain_core.messages import HumanMessage\n",
    "\n",
    "response = model.invoke([HumanMessage(content=\"hi!\")])\n",
    "response.content"
   ]
  },
  {
   "cell_type": "code",
   "execution_count": 5,
   "id": "07957d1a-1bd2-4cbd-b905-f1ae3d2e1c2f",
   "metadata": {},
   "outputs": [],
   "source": [
    "import os\n",
    "os.environ[\"TAVILY_API_KEY\"] = \"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\""
   ]
  },
  {
   "cell_type": "code",
   "execution_count": 6,
   "id": "cc2639ae-cf14-4daa-ba11-ea5fa9253807",
   "metadata": {},
   "outputs": [
    {
     "data": {
      "text/plain": [
       "[{'url': 'https://www.weatherapi.com/',\n",
       "  'content': \"{'location': {'name': 'San Francisco', 'region': 'California', 'country': 'United States of America', 'lat': 37.775, 'lon': -122.4183, 'tz_id': 'America/Los_Angeles', 'localtime_epoch': 1735219296, 'localtime': '2024-12-26 05:21'}, 'current': {'last_updated_epoch': 1735218900, 'last_updated': '2024-12-26 05:15', 'temp_c': 10.7, 'temp_f': 51.2, 'is_day': 0, 'condition': {'text': 'Overcast', 'icon': '//cdn.weatherapi.com/weather/64x64/night/122.png', 'code': 1009}, 'wind_mph': 9.4, 'wind_kph': 15.1, 'wind_degree': 160, 'wind_dir': 'SSE', 'pressure_mb': 1020.0, 'pressure_in': 30.12, 'precip_mm': 0.0, 'precip_in': 0.0, 'humidity': 92, 'cloud': 100, 'feelslike_c': 8.8, 'feelslike_f': 47.9, 'windchill_c': 8.8, 'windchill_f': 47.9, 'heatindex_c': 10.7, 'heatindex_f': 51.2, 'dewpoint_c': 9.2, 'dewpoint_f': 48.5, 'vis_km': 10.0, 'vis_miles': 6.0, 'uv': 0.0, 'gust_mph': 15.3, 'gust_kph': 24.6}}\"},\n",
       " {'url': 'https://www.weather25.com/north-america/usa/california/san-francisco?page=month&month=December',\n",
       "  'content': 'San Francisco weather in December 2024 | Weather25.com San Francisco weather in December 2024 | San Francisco in December | Temperatures in San Francisco in December Weather in San Francisco in December - FAQ The average temperature in San Francisco in December is 8/14° C. On average, there are 4 rainy days in San Francisco during December. Weather wise, is December a good time to visit San Francisco? The weather in San Francisco in December is good. On average, there are 0 snowy days in San Francisco in December. More about the weather in San Francisco San Francisco 14 day weather Long range weather for San Francisco San Francisco weather in November San Francisco Webcam Weather tomorrow Hotels in San Francisco'}]"
      ]
     },
     "execution_count": 6,
     "metadata": {},
     "output_type": "execute_result"
    }
   ],
   "source": [
    "from langchain_community.tools.tavily_search import TavilySearchResults\n",
    "\n",
    "search = TavilySearchResults(max_results=2)\n",
    "search_results = search.invoke(\"what is the weather in SF\")\n",
    "search_results"
   ]
  },
  {
   "cell_type": "markdown",
   "id": "8f451e8e-0f20-4e76-ad33-467ed8336e90",
   "metadata": {},
   "source": [
    "## Find the tool to use"
   ]
  },
  {
   "cell_type": "code",
   "execution_count": 8,
   "id": "4a121ec0-8d15-4129-ad34-7ddf07c23210",
   "metadata": {},
   "outputs": [],
   "source": [
    "tools = [search, multiply]"
   ]
  },
  {
   "cell_type": "code",
   "execution_count": 7,
   "id": "80295837-f524-4804-958f-9438b4aa4140",
   "metadata": {},
   "outputs": [],
   "source": [
    "from langchain_core.tools import tool\n",
    "\n",
    "@tool\n",
    "def multiply(a: int, b: int) -> int:\n",
    "    \"\"\"Multiply two numbers.\n",
    "        \n",
    "    Args:\n",
    "        a: First integer\n",
    "        b: Second integer\n",
    "    \"\"\"\n",
    "    return a * b"
   ]
  },
  {
   "cell_type": "code",
   "execution_count": 30,
   "id": "bde774a5-3a98-444b-a41c-764b0b9dd459",
   "metadata": {},
   "outputs": [
    {
     "name": "stdout",
     "output_type": "stream",
     "text": [
      "<class 'list'>\n",
      "<class 'langchain_community.tools.tavily_search.tool.TavilySearchResults'>\n",
      "<class 'langchain_core.tools.structured.StructuredTool'>\n"
     ]
    }
   ],
   "source": [
    "print(type(tools))\n",
    "for tool in tools:\n",
    "    print(type(tool))"
   ]
  },
  {
   "cell_type": "code",
   "execution_count": 9,
   "id": "ac35935c-eaf0-48f2-8a4b-9b20224f1f6a",
   "metadata": {},
   "outputs": [],
   "source": [
    "TOOL_DESC = (\n",
    "    '{name_for_model}: Call this tool to interact with the {name_for_human} API.'\n",
    "    ' What is the {name_for_human} API useful for? {description_for_model} Parameters: {parameters}'\n",
    ")"
   ]
  },
  {
   "cell_type": "code",
   "execution_count": 10,
   "id": "10f4b5c0-c34e-4b4e-b397-a30a913b124d",
   "metadata": {},
   "outputs": [],
   "source": [
    "REACT_INSTRUCTION = \"\"\"Answer the following questions as best you can. You have access to the following APIs:\n",
    "\n",
    "{tools_text}\n",
    "\n",
    "Use the following format:\n",
    "\n",
    "Question: the input question you must answer\n",
    "Thought: you should always think about what to do\n",
    "Action: the action to take, should be one of [{tools_name_text}]\n",
    "Action Input: the input to the action\n",
    "\n",
    "Begin!\"\"\"\n",
    "\n",
    "# Observation: the result of the action\n",
    "# ... (this Thought/Action/Action Input/Observation can be repeated zero or more times)\n",
    "# Thought: I now know the final answer\n",
    "# Final Answer: the final answer to the original input question"
   ]
  },
  {
   "cell_type": "code",
   "execution_count": 35,
   "id": "0bcf299d-4256-4d71-9fbc-8f68fd97ebf3",
   "metadata": {},
   "outputs": [
    {
     "name": "stdout",
     "output_type": "stream",
     "text": [
      "{'query': {'description': 'search query to look up', 'title': 'Query', 'type': 'string'}}\n",
      "{'a': {'title': 'A', 'type': 'integer'}, 'b': {'title': 'B', 'type': 'integer'}}\n"
     ]
    },
    {
     "data": {
      "text/plain": [
       "'Answer the following questions as best you can. You have access to the following APIs:\\n\\n[\"tavily_search_results_json: Call this tool to interact with the tavily_search_results_json API. What is the tavily_search_results_json API useful for? A search engine optimized for comprehensive, accurate, and trusted results. Useful for when you need to answer questions about current events. Input should be a search query. Parameters: {\\'query\\': {\\'description\\': \\'search query to look up\\', \\'title\\': \\'Query\\', \\'type\\': \\'string\\'}}\", \"multiply: Call this tool to interact with the multiply API. What is the multiply API useful for? Multiply two numbers.\\\\n\\\\n    Args:\\\\n        a: First integer\\\\n        b: Second integer Parameters: {\\'a\\': {\\'title\\': \\'A\\', \\'type\\': \\'integer\\'}, \\'b\\': {\\'title\\': \\'B\\', \\'type\\': \\'integer\\'}}\"]\\n\\nUse the following format:\\n\\nQuestion: the input question you must answer\\nThought: you should always think about what to do\\nAction: the action to take, should be one of [[\\'tavily_search_results_json\\', \\'multiply\\']]\\nAction Input: the input to the action\\n\\nBegin!'"
      ]
     },
     "execution_count": 35,
     "metadata": {},
     "output_type": "execute_result"
    }
   ],
   "source": [
    "tools_text = []\n",
    "tools_name_text = []\n",
    "\n",
    "for tool in tools:\n",
    "    tool_text = TOOL_DESC.format(\n",
    "        name_for_model=tool.name,\n",
    "        name_for_human=tool.name,\n",
    "        # Hint: You can add the following format requirements in description:\n",
    "        #   \"Format the arguments as a JSON object.\"\n",
    "        #   \"Enclose the code within triple backticks (`) at the beginning and end of the code.\"\n",
    "        description_for_model=tool.description,\n",
    "        parameters=tool.args,\n",
    "    )\n",
    "    tools_text.append(tool_text)\n",
    "    tools_name_text.append(tool.name)\n",
    "\n",
    "instruction = (REACT_INSTRUCTION.format(\n",
    "    tools_text=tools_text,\n",
    "    tools_name_text=tools_name_text,\n",
    ").lstrip('\\n').rstrip())\n",
    "instruction"
   ]
  },
  {
   "cell_type": "code",
   "execution_count": 34,
   "id": "20fbeae6-13d7-4bb6-b402-abad4e23d5ec",
   "metadata": {},
   "outputs": [
    {
     "name": "stdout",
     "output_type": "stream",
     "text": [
      "[\"tavily_search_results_json: Call this tool to interact with the tavily_search_results_json API. What is the tavily_search_results_json API useful for? A search engine optimized for comprehensive, accurate, and trusted results. Useful for when you need to answer questions about current events. Input should be a search query. Parameters: {'query': {'description': 'search query to look up', 'title': 'Query', 'type': 'string'}}\", \"multiply: Call this tool to interact with the multiply API. What is the multiply API useful for? Multiply two numbers.\\n\\n    Args:\\n        a: First integer\\n        b: Second integer Parameters: {'a': {'title': 'A', 'type': 'integer'}, 'b': {'title': 'B', 'type': 'integer'}}\"]\n",
      "tavily_search_results_json: Call this tool to interact with the tavily_search_results_json API. What is the tavily_search_results_json API useful for? A search engine optimized for comprehensive, accurate, and trusted results. Useful for when you need to answer questions about current events. Input should be a search query. Parameters: {'query': {'description': 'search query to look up', 'title': 'Query', 'type': 'string'}}\n",
      "multiply: Call this tool to interact with the multiply API. What is the multiply API useful for? Multiply two numbers.\n",
      "\n",
      "    Args:\n",
      "        a: First integer\n",
      "        b: Second integer Parameters: {'a': {'title': 'A', 'type': 'integer'}, 'b': {'title': 'B', 'type': 'integer'}}\n"
     ]
    }
   ],
   "source": [
    "print(tools_text)\n",
    "for tool_text in tools_text:\n",
    "    print(tool_text)"
   ]
  },
  {
   "cell_type": "code",
   "execution_count": 41,
   "id": "a0a767c2-a5e1-4a36-9497-94e05c5dc378",
   "metadata": {},
   "outputs": [
    {
     "name": "stdout",
     "output_type": "stream",
     "text": [
      "[Warning] Specifying sampling arguments to ``generate_step`` is deprecated. Pass in a ``sampler`` instead.\n",
      "ContentString: Thought: The question asks for a joke to cheer someone up, but the available tools do not provide a direct way to fetch jokes. However, I can still come up with a joke on my own without using any tools.\n",
      "Answer: Why don't scientists trust atoms? Because they make up everything. I hope that brings a smile to your face!\n"
     ]
    }
   ],
   "source": [
    "normal_question = \"I feel sad, tell me a joke\"\n",
    "query = f'{instruction}\\n\\nQuestion: {normal_question}'\n",
    "use_tool_response = model.invoke([HumanMessage(content=query)])\n",
    "print(f\"ContentString: {use_tool_response.content}\")"
   ]
  },
  {
   "cell_type": "code",
   "execution_count": 13,
   "id": "567c7473-b269-4eb7-8a22-12c105d83278",
   "metadata": {},
   "outputs": [
    {
     "name": "stdout",
     "output_type": "stream",
     "text": [
      "[Warning] Specifying sampling arguments to ``generate_step`` is deprecated. Pass in a ``sampler`` instead.\n",
      "ContentString: Thought: The question is asking for a simple multiplication, which can be directly computed without needing to use an external API.\n",
      "Action: multiply\n",
      "Action Input: {\"a\": 3, \"b\": 4}\n"
     ]
    }
   ],
   "source": [
    "multiply_question = \"What is 3 * 4?\"\n",
    "query = f'{instruction}\\n\\nQuestion: {multiply_question}'\n",
    "use_tool_response = model.invoke([HumanMessage(content=query)])\n",
    "print(f\"ContentString: {use_tool_response.content}\")"
   ]
  },
  {
   "cell_type": "code",
   "execution_count": 47,
   "id": "13b60cf0-f633-45b2-b219-d60e189c721d",
   "metadata": {},
   "outputs": [
    {
     "name": "stdout",
     "output_type": "stream",
     "text": [
      "[Warning] Specifying sampling arguments to ``generate_step`` is deprecated. Pass in a ``sampler`` instead.\n",
      "ContentString: Thought: To answer this question, I need to search for the current weather in San Francisco. I'll use the tavily_search_results_json API to get this information.\n",
      "Action: tavily_search_results_json\n",
      "Action Input: {\"query\": \"weather in San Francisco today\"}\n"
     ]
    }
   ],
   "source": [
    "weather_question = \"What is the the weather in SF today?\"\n",
    "query = f'{instruction}\\n\\nQuestion: {weather_question}'\n",
    "use_tool_response = model.invoke([HumanMessage(content=query)])\n",
    "print(f\"ContentString: {use_tool_response.content}\")"
   ]
  },
  {
   "cell_type": "markdown",
   "id": "e2c38290-3335-4b9d-a5e6-702b742c7a94",
   "metadata": {},
   "source": [
    "## Determine if tool call needed"
   ]
  },
  {
   "cell_type": "code",
   "execution_count": 49,
   "id": "99234ebf-7b77-475e-a57f-dce0edbe8ee9",
   "metadata": {},
   "outputs": [
    {
     "name": "stdout",
     "output_type": "stream",
     "text": [
      "[Warning] Specifying sampling arguments to ``generate_step`` is deprecated. Pass in a ``sampler`` instead.\n",
      "yes\n"
     ]
    }
   ],
   "source": [
    "is_tool_call_needed_query = f\"\"\"Determine if a tool call is needed based on the following coontent: \n",
    "{use_tool_response}\n",
    "\n",
    "If a tool call is not needed, answer the question: {normal_question}\n",
    "If a tool call is needed, answer \"yes\"\n",
    "Provide the answer only.\n",
    "\"\"\"\n",
    "is_tool_call_needed_response = model.invoke([HumanMessage(content=is_tool_call_needed_query)])\n",
    "print(is_tool_call_needed_response.content)"
   ]
  },
  {
   "cell_type": "code",
   "execution_count": 51,
   "id": "71a0d8ca-f57a-4457-abe2-6e2ad03ac3cc",
   "metadata": {},
   "outputs": [
    {
     "data": {
      "text/plain": [
       "'yes'"
      ]
     },
     "execution_count": 51,
     "metadata": {},
     "output_type": "execute_result"
    }
   ],
   "source": [
    "is_tool_call_needed_response.content"
   ]
  },
  {
   "cell_type": "code",
   "execution_count": null,
   "id": "2af4d614-df75-4578-8bc4-40e50359888a",
   "metadata": {},
   "outputs": [],
   "source": []
  },
  {
   "cell_type": "code",
   "execution_count": null,
   "id": "d2939212-3c5d-4e15-988a-299652adfb37",
   "metadata": {},
   "outputs": [],
   "source": []
  },
  {
   "cell_type": "markdown",
   "id": "46091d11-34ca-48aa-9513-f87c4d2bc9dc",
   "metadata": {},
   "source": [
    "## Extract tool call to JSON"
   ]
  },
  {
   "cell_type": "code",
   "execution_count": 53,
   "id": "ecc4a7f4-f449-4d4c-b406-c66386ce7de4",
   "metadata": {},
   "outputs": [
    {
     "data": {
      "text/plain": [
       "'Extract the action and the action input from the below content\\n    \\n    Thought: To answer this question, I need to search for the current weather in San Francisco. I\\'ll use the tavily_search_results_json API to get this information.\\nAction: tavily_search_results_json\\nAction Input: {\"query\": \"weather in San Francisco today\"}\\n    '"
      ]
     },
     "execution_count": 53,
     "metadata": {},
     "output_type": "execute_result"
    }
   ],
   "source": [
    "action_extract_template = \"\"\n",
    "if is_tool_call_needed_response.content == \"yes\":\n",
    "    action_extract_template = f\"\"\"Extract the action and the action input from the below content\n",
    "    \n",
    "    {use_tool_response.content}\n",
    "    \"\"\"\n",
    "    # action_extract_prompt = action_extract_template.format(content=response.content)\n",
    "\n",
    "action_extract_template"
   ]
  },
  {
   "cell_type": "code",
   "execution_count": 16,
   "id": "3b04935c-4603-40c3-8561-afdcf80a7ee2",
   "metadata": {},
   "outputs": [
    {
     "data": {
      "text/plain": [
       "'Extract the action and the action input from the below content\\n\\nThought: To answer the question about the weather in San Francisco today, I should use the search engine API to find current weather information.\\nAction: tavily_search_results_json\\nAction Input: {\"query\": \"weather in San Francisco today\"}\\n\\n\\nGenerate in pure json format as follows:\\n{\\n  \"action\": <the-name-of-the-action>,\\n  \"args\": [  \\\\ use [ for list, instead of { for object\\n    <the-name-of-the-arg>: <value-of-the-arg>,\\n    ...\\n  ]\\n}'"
      ]
     },
     "execution_count": 16,
     "metadata": {},
     "output_type": "execute_result"
    }
   ],
   "source": [
    "action_extract_prompt = action_extract_template + \"\"\"\\n\\nGenerate in pure json format as follows:\n",
    "{\n",
    "  \"action\": <the-name-of-the-action>,\n",
    "  \"args\": [  \\\\ use [ for list, instead of { for object\n",
    "    <the-name-of-the-arg>: <value-of-the-arg>,\n",
    "    ...\n",
    "  ]\n",
    "}\"\"\"\n",
    "action_extract_prompt"
   ]
  },
  {
   "cell_type": "code",
   "execution_count": 17,
   "id": "c2373e7d-e3ab-4750-87c9-5750c80af60b",
   "metadata": {},
   "outputs": [
    {
     "name": "stdout",
     "output_type": "stream",
     "text": [
      "[Warning] Specifying sampling arguments to ``generate_step`` is deprecated. Pass in a ``sampler`` instead.\n",
      "{\n",
      "  \"action\": \"tavily_search_results_json\",\n",
      "  \"args\": [\n",
      "    {\"query\": \"weather in San Francisco today\"}\n",
      "  ]\n",
      "}\n"
     ]
    }
   ],
   "source": [
    "tool_call_response = model.invoke([HumanMessage(content=action_extract_prompt)])\n",
    "print(tool_call_response.content)"
   ]
  },
  {
   "cell_type": "code",
   "execution_count": 18,
   "id": "bc332a27-d946-47a8-baf7-c0938a839799",
   "metadata": {},
   "outputs": [
    {
     "name": "stdout",
     "output_type": "stream",
     "text": [
      "{'action': 'tavily_search_results_json', 'args': [{'query': 'weather in San Francisco today'}]}\n",
      "tavily_search_results_json\n",
      "weather in San Francisco today\n"
     ]
    }
   ],
   "source": [
    "import json\n",
    "\n",
    "data_dict = json.loads(tool_call_response.content)\n",
    "print(data_dict)\n",
    "print(data_dict[\"action\"])\n",
    "print(data_dict[\"args\"][0][\"query\"])"
   ]
  },
  {
   "cell_type": "markdown",
   "id": "77bfe39d-0ae2-45ec-af3c-3ac0c826b988",
   "metadata": {},
   "source": [
    "## Call tool"
   ]
  },
  {
   "cell_type": "code",
   "execution_count": 19,
   "id": "b14816e9-b752-45ee-9660-339c5ae38b9a",
   "metadata": {},
   "outputs": [
    {
     "data": {
      "text/plain": [
       "[{'url': 'https://www.weatherapi.com/',\n",
       "  'content': \"{'location': {'name': 'San Francisco', 'region': 'California', 'country': 'United States of America', 'lat': 37.775, 'lon': -122.4183, 'tz_id': 'America/Los_Angeles', 'localtime_epoch': 1735219296, 'localtime': '2024-12-26 05:21'}, 'current': {'last_updated_epoch': 1735218900, 'last_updated': '2024-12-26 05:15', 'temp_c': 10.7, 'temp_f': 51.2, 'is_day': 0, 'condition': {'text': 'Overcast', 'icon': '//cdn.weatherapi.com/weather/64x64/night/122.png', 'code': 1009}, 'wind_mph': 9.4, 'wind_kph': 15.1, 'wind_degree': 160, 'wind_dir': 'SSE', 'pressure_mb': 1020.0, 'pressure_in': 30.12, 'precip_mm': 0.0, 'precip_in': 0.0, 'humidity': 92, 'cloud': 100, 'feelslike_c': 8.8, 'feelslike_f': 47.9, 'windchill_c': 8.8, 'windchill_f': 47.9, 'heatindex_c': 10.7, 'heatindex_f': 51.2, 'dewpoint_c': 9.2, 'dewpoint_f': 48.5, 'vis_km': 10.0, 'vis_miles': 6.0, 'uv': 0.0, 'gust_mph': 15.3, 'gust_kph': 24.6}}\"},\n",
       " {'url': 'https://www.weather25.com/north-america/usa/california/san-francisco?page=month&month=December',\n",
       "  'content': 'San Francisco weather in December 2024 | Weather25.com San Francisco weather in December 2024 | San Francisco in December | Temperatures in San Francisco in December Weather in San Francisco in December - FAQ The average temperature in San Francisco in December is 8/14° C. On average, there are 4 rainy days in San Francisco during December. Weather wise, is December a good time to visit San Francisco? The weather in San Francisco in December is good. On average, there are 0 snowy days in San Francisco in December. More about the weather in San Francisco San Francisco 14 day weather Long range weather for San Francisco San Francisco weather in November San Francisco Webcam Weather tomorrow Hotels in San Francisco'}]"
      ]
     },
     "execution_count": 19,
     "metadata": {},
     "output_type": "execute_result"
    }
   ],
   "source": [
    "for tool in tools:\n",
    "    if tool.name == data_dict[\"action\"]:\n",
    "        tool_result = tool.invoke(data_dict[\"args\"][0][\"query\"])\n",
    "\n",
    "tool_result"
   ]
  },
  {
   "cell_type": "code",
   "execution_count": 20,
   "id": "042ba2c3-104f-41fd-a52c-e07593cda9e6",
   "metadata": {},
   "outputs": [],
   "source": [
    "# TODO: use this general approach\n",
    "\n",
    "# import json\n",
    "\n",
    "# # Extract the function name and arguments\n",
    "# action = data['action']\n",
    "# args_list = data['args']\n",
    "\n",
    "# # Convert args_list to a single dictionary\n",
    "# args = {key: value for arg in args_list for key, value in arg.items()}\n",
    "\n",
    "# # Call the function dynamically\n",
    "# result = globals()[action](**args)\n",
    "\n",
    "# print(f\"The result of the function call is: {result}\")\n"
   ]
  },
  {
   "cell_type": "markdown",
   "id": "86b38490-30e0-4bcb-b791-f8d6a2449972",
   "metadata": {},
   "source": [
    "## Final answer"
   ]
  },
  {
   "cell_type": "code",
   "execution_count": 21,
   "id": "ae9efe9f-872a-45ee-9baf-0f60d72da018",
   "metadata": {},
   "outputs": [
    {
     "data": {
      "text/plain": [
       "'Answer the following questions as best you can. You have access to the following APIs:\\n\\n[\"tavily_search_results_json: Call this tool to interact with the tavily_search_results_json API. What is the tavily_search_results_json API useful for? A search engine optimized for comprehensive, accurate, and trusted results. Useful for when you need to answer questions about current events. Input should be a search query. Parameters: {\\'query\\': {\\'description\\': \\'search query to look up\\', \\'title\\': \\'Query\\', \\'type\\': \\'string\\'}}\", \"multiply: Call this tool to interact with the multiply API. What is the multiply API useful for? Multiply two numbers.\\\\n\\\\n    Args:\\\\n        a: First integer\\\\n        b: Second integer Parameters: {\\'a\\': {\\'title\\': \\'A\\', \\'type\\': \\'integer\\'}, \\'b\\': {\\'title\\': \\'B\\', \\'type\\': \\'integer\\'}}\"]\\n\\nUse the following format:\\n\\nQuestion: the input question you must answer\\nThought: you should always think about what to do\\nAction: the action to take, should be one of [[\\'tavily_search_results_json\\', \\'multiply\\']]\\nAction Input: the input to the action\\n\\nBegin!\\n\\nQuestion: What is the the weather in SF today?\\nObservation: the result of the action\\n[{\\'url\\': \\'https://www.weatherapi.com/\\', \\'content\\': \"{\\'location\\': {\\'name\\': \\'San Francisco\\', \\'region\\': \\'California\\', \\'country\\': \\'United States of America\\', \\'lat\\': 37.775, \\'lon\\': -122.4183, \\'tz_id\\': \\'America/Los_Angeles\\', \\'localtime_epoch\\': 1735219296, \\'localtime\\': \\'2024-12-26 05:21\\'}, \\'current\\': {\\'last_updated_epoch\\': 1735218900, \\'last_updated\\': \\'2024-12-26 05:15\\', \\'temp_c\\': 10.7, \\'temp_f\\': 51.2, \\'is_day\\': 0, \\'condition\\': {\\'text\\': \\'Overcast\\', \\'icon\\': \\'//cdn.weatherapi.com/weather/64x64/night/122.png\\', \\'code\\': 1009}, \\'wind_mph\\': 9.4, \\'wind_kph\\': 15.1, \\'wind_degree\\': 160, \\'wind_dir\\': \\'SSE\\', \\'pressure_mb\\': 1020.0, \\'pressure_in\\': 30.12, \\'precip_mm\\': 0.0, \\'precip_in\\': 0.0, \\'humidity\\': 92, \\'cloud\\': 100, \\'feelslike_c\\': 8.8, \\'feelslike_f\\': 47.9, \\'windchill_c\\': 8.8, \\'windchill_f\\': 47.9, \\'heatindex_c\\': 10.7, \\'heatindex_f\\': 51.2, \\'dewpoint_c\\': 9.2, \\'dewpoint_f\\': 48.5, \\'vis_km\\': 10.0, \\'vis_miles\\': 6.0, \\'uv\\': 0.0, \\'gust_mph\\': 15.3, \\'gust_kph\\': 24.6}}\"}, {\\'url\\': \\'https://www.weather25.com/north-america/usa/california/san-francisco?page=month&month=December\\', \\'content\\': \\'San Francisco weather in December 2024 | Weather25.com San Francisco weather in December 2024 | San Francisco in December | Temperatures in San Francisco in December Weather in San Francisco in December - FAQ The average temperature in San Francisco in December is 8/14° C. On average, there are 4 rainy days in San Francisco during December. Weather wise, is December a good time to visit San Francisco? The weather in San Francisco in December is good. On average, there are 0 snowy days in San Francisco in December. More about the weather in San Francisco San Francisco 14 day weather Long range weather for San Francisco San Francisco weather in November San Francisco Webcam Weather tomorrow Hotels in San Francisco\\'}]\\n\\nThought: I now know the final answer\\nFinal Answer: the final answer to the original input question\\n'"
      ]
     },
     "execution_count": 21,
     "metadata": {},
     "output_type": "execute_result"
    }
   ],
   "source": [
    "final_answer = query + f\"\"\"\n",
    "Observation: the result of the action\n",
    "{tool_result}\n",
    "\n",
    "Thought: I now know the final answer\n",
    "Final Answer: the final answer to the original input question\n",
    "\"\"\"\n",
    "final_answer\n",
    "# ... (this Thought/Action/Action Input/Observation can be repeated zero or more times)"
   ]
  },
  {
   "cell_type": "code",
   "execution_count": 22,
   "id": "19de3317-5647-4377-8510-4594b5e48247",
   "metadata": {},
   "outputs": [
    {
     "name": "stdout",
     "output_type": "stream",
     "text": [
      "[Warning] Specifying sampling arguments to ``generate_step`` is deprecated. Pass in a ``sampler`` instead.\n",
      "Thought: I have the weather information for San Francisco today from the search result.\n",
      "Final Answer: The weather in San Francisco today is overcast with a temperature of 10.7°C (51.2°F). The feels-like temperature is 8.8°C (47.9°F) due to the high humidity of 92%. The wind is coming from the SSE at a speed of 15.1 km/h (9.4 mph). There is no precipitation expected today.\n"
     ]
    }
   ],
   "source": [
    "final_answer_response = model.invoke([HumanMessage(content=final_answer)])\n",
    "print(final_answer_response.content)"
   ]
  },
  {
   "cell_type": "markdown",
   "id": "bd7199b5-7209-436a-8777-0a1b3eb9e85b",
   "metadata": {},
   "source": [
    "## Answer to human"
   ]
  },
  {
   "cell_type": "code",
   "execution_count": 23,
   "id": "7c76cf48-bf0e-4933-b465-2287736d35c1",
   "metadata": {},
   "outputs": [],
   "source": [
    "answer_to_human = f\"\"\"Extract information from the below content to answer the question at the end\n",
    "\n",
    "{final_answer_response.content}\n",
    "\n",
    "Question: {weather_question}\n",
    "\"\"\""
   ]
  },
  {
   "cell_type": "code",
   "execution_count": 24,
   "id": "d6ba748e-8817-4534-8307-d0bda27900bb",
   "metadata": {},
   "outputs": [
    {
     "name": "stdout",
     "output_type": "stream",
     "text": [
      "[Warning] Specifying sampling arguments to ``generate_step`` is deprecated. Pass in a ``sampler`` instead.\n",
      "The weather in San Francisco today is overcast with a temperature of 10.7°C (51.2°F). The feels-like temperature is 8.8°C (47.9°F) due to high humidity of 92%. The wind is coming from the SSE at a speed of 15.1 km/h (9.4 mph), and there is no precipitation expected today.\n"
     ]
    }
   ],
   "source": [
    "to_human_response = model.invoke([HumanMessage(content=answer_to_human)])\n",
    "print(to_human_response.content)"
   ]
  },
  {
   "cell_type": "code",
   "execution_count": null,
   "id": "8f210852-bc20-4eab-ac59-255cf7ba0ea2",
   "metadata": {},
   "outputs": [],
   "source": []
  }
 ],
 "metadata": {
  "kernelspec": {
   "display_name": "Python 3 (ipykernel)",
   "language": "python",
   "name": "python3"
  },
  "language_info": {
   "codemirror_mode": {
    "name": "ipython",
    "version": 3
   },
   "file_extension": ".py",
   "mimetype": "text/x-python",
   "name": "python",
   "nbconvert_exporter": "python",
   "pygments_lexer": "ipython3",
   "version": "3.12.8"
  }
 },
 "nbformat": 4,
 "nbformat_minor": 5
}
